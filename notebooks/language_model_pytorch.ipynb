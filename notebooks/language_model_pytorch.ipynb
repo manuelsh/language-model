{
 "cells": [
  {
   "cell_type": "code",
   "execution_count": 1,
   "metadata": {},
   "outputs": [],
   "source": [
    "from IPython.core.interactiveshell import InteractiveShell\n",
    "InteractiveShell.ast_node_interactivity = \"all\""
   ]
  },
  {
   "cell_type": "code",
   "execution_count": 2,
   "metadata": {},
   "outputs": [],
   "source": [
    "import itertools\n",
    "import pandas as pd\n",
    "import random\n",
    "from collections import Counter\n",
    "import torch\n",
    "import torch.nn as nn\n",
    "from torch.autograd import Variable\n",
    "import numpy as np\n",
    "from tqdm import tqdm\n",
    "import string\n",
    "import matplotlib.pyplot as plt\n",
    "\n",
    "%matplotlib inline"
   ]
  },
  {
   "cell_type": "markdown",
   "metadata": {},
   "source": [
    "# Read files and put all together"
   ]
  },
  {
   "cell_type": "code",
   "execution_count": 3,
   "metadata": {
    "scrolled": true
   },
   "outputs": [
    {
     "name": "stdout",
     "output_type": "stream",
     "text": [
      "CPU times: user 1.45 s, sys: 185 ms, total: 1.63 s\n",
      "Wall time: 1.63 s\n"
     ]
    }
   ],
   "source": [
    "%%time\n",
    "data_path = '../data/external/joke-dataset/'\n",
    "reddit_jokes = pd.read_json(data_path + 'reddit_jokes.json')\n",
    "wocka_jokes = pd.read_json(data_path + 'wocka.json' )\n",
    "stupid_jokes = pd.read_json(data_path + 'stupidstuff.json')"
   ]
  },
  {
   "cell_type": "code",
   "execution_count": 4,
   "metadata": {},
   "outputs": [
    {
     "data": {
      "text/plain": [
       "208345"
      ]
     },
     "execution_count": 4,
     "metadata": {},
     "output_type": "execute_result"
    }
   ],
   "source": [
    "reddit_jokes['body'] = reddit_jokes['title'] + '\\n' + reddit_jokes['body']\n",
    "del reddit_jokes['title']\n",
    "jokes = pd.concat([reddit_jokes['body'], wocka_jokes['body'], stupid_jokes['body']], axis = 0, ignore_index=True)\n",
    "len(jokes)"
   ]
  },
  {
   "cell_type": "markdown",
   "metadata": {},
   "source": [
    "# Preprocessing: data selection"
   ]
  },
  {
   "cell_type": "code",
   "execution_count": 5,
   "metadata": {},
   "outputs": [],
   "source": [
    "# Remove empty texts\n",
    "jokes = jokes[~(jokes=='')]\n",
    "\n",
    "# Ensure no nulls and no empty\n",
    "assert sum(jokes=='')==0\n",
    "assert sum(jokes.isnull())==0"
   ]
  },
  {
   "cell_type": "code",
   "execution_count": 6,
   "metadata": {},
   "outputs": [
    {
     "data": {
      "text/plain": [
       "<matplotlib.axes._subplots.AxesSubplot at 0x7f2c7a214cc0>"
      ]
     },
     "execution_count": 6,
     "metadata": {},
     "output_type": "execute_result"
    },
    {
     "name": "stdout",
     "output_type": "stream",
     "text": [
      "Number of jokes: 152493\n"
     ]
    },
    {
     "data": {
      "image/png": "[encoded data removed]",
      "text/plain": [
       "<matplotlib.figure.Figure at 0x7f2c618b4ef0>"
      ]
     },
     "metadata": {},
     "output_type": "display_data"
    }
   ],
   "source": [
    "# Remove very long jokes\n",
    "length_threshold=200\n",
    "jokes = jokes[jokes.apply(len)<length_threshold]\n",
    "jokes.apply(len).hist()\n",
    "print(\"Number of jokes: %d\" %len(jokes))"
   ]
  },
  {
   "cell_type": "markdown",
   "metadata": {},
   "source": [
    "# Preprocessing: data cleaning"
   ]
  },
  {
   "cell_type": "code",
   "execution_count": 7,
   "metadata": {},
   "outputs": [],
   "source": [
    "# Lowercase\n",
    "jokes = jokes.apply(lambda x: x.lower())\n"
   ]
  },
  {
   "cell_type": "code",
   "execution_count": 8,
   "metadata": {
    "scrolled": false
   },
   "outputs": [
    {
     "name": "stdout",
     "output_type": "stream",
     "text": [
      "[serious] holocaust jokes are not funny and never will be.\n",
      "it's a very sore spot for many people. personally, my grandfather died at dachau, he got drunk and fell out of his watchtower.\n",
      "-----\n",
      "i'm told i sleep like a baby.\n",
      "... i wake up crying every few hours\n",
      "-----\n",
      "it's international holocaust remembrance day\n",
      "and fugghedaboütit day in germany.\n",
      "-----\n",
      "a giraffe walks into a bar...\n",
      "and says highballs are on me. \n",
      "-----\n",
      "i don't think i'm ever going to score in asia...\n",
      "...everyone keeps refusing my tip.\n",
      "-----\n",
      "what did the poop say to the pee when he was hitting on her?\n",
      "i may be a two but your an eight..\n",
      "-----\n",
      "what my friend heard in the school hallway.\n",
      "guy one: i can put windows on any mac laptop.\n",
      "guy two: i can put mac on any windows laptop.\n",
      "*third guy shows up*\n",
      "i can put deez nutz on every laptop.\n",
      "-----\n",
      "what do you call a jewish pokemon trainer?\n",
      "ash\n",
      "-----\n",
      "why did the h kill himself?\n",
      "because the g had.\n",
      "-----\n",
      "i went tonthe zoo and all they had was one small dog\n",
      "and an empty gorilla enclosure...\n",
      "\n",
      "it was a shotzu.\n",
      "-----\n"
     ]
    }
   ],
   "source": [
    "# get some samples from the training corpus\n",
    "\n",
    "for i in range(10):\n",
    "    print(random.choice(list(jokes)))\n",
    "    print('-----')"
   ]
  },
  {
   "cell_type": "markdown",
   "metadata": {},
   "source": [
    "# Create tokens and encode train and validation set"
   ]
  },
  {
   "cell_type": "code",
   "execution_count": 9,
   "metadata": {},
   "outputs": [
    {
     "data": {
      "text/plain": [
       "45"
      ]
     },
     "execution_count": 9,
     "metadata": {},
     "output_type": "execute_result"
    }
   ],
   "source": [
    "# Create token_dict based on ascii letters\n",
    "all_letters = string.ascii_letters[0:26] + \"\"\" \".,;'-+=?!$%():\\n\"\"\"\n",
    "token_dict = {token:k for token,k in zip(all_letters, range(1,len(all_letters)+1))}\n",
    "\n",
    "end_token = '<end>'\n",
    "pad_token = '<pad>'\n",
    "\n",
    "token_dict[pad_token] = 0\n",
    "token_dict[end_token] = len(token_dict)\n",
    "\n",
    "decoder_dict = {token_dict[k]:k for k in token_dict.keys()}\n",
    "tokens_count = len(token_dict)\n",
    "assert len(decoder_dict)==len(decoder_dict)\n",
    "tokens_count"
   ]
  },
  {
   "cell_type": "code",
   "execution_count": 10,
   "metadata": {},
   "outputs": [
    {
     "name": "stdout",
     "output_type": "stream",
     "text": [
      "CPU times: user 1.83 s, sys: 22.1 ms, total: 1.85 s\n",
      "Wall time: 1.85 s\n"
     ]
    }
   ],
   "source": [
    "def text_encoder(text):\n",
    "    return [token_dict[token] for token in text if token in token_dict] + [token_dict['<end>']]\n",
    "\n",
    "%time jokes_encoded =  list( jokes.apply(text_encoder) ) # as a list is much faster to retrieve elements"
   ]
  },
  {
   "cell_type": "markdown",
   "metadata": {},
   "source": [
    "# Define model"
   ]
  },
  {
   "cell_type": "code",
   "execution_count": 11,
   "metadata": {},
   "outputs": [],
   "source": [
    "class RNN(nn.Module):\n",
    "    def __init__(self, \n",
    "                 tokens_count,\n",
    "                 embedding_dimension, \n",
    "                 rnn_dim,\n",
    "                 #relu_dim,\n",
    "                 num_layers, \n",
    "                 dropout):\n",
    "        \n",
    "        super(RNN, self).__init__()\n",
    "        \n",
    "        self.rnn_dim = rnn_dim\n",
    "        \n",
    "        self.embedding = nn.Embedding(tokens_count, embedding_dimension)\n",
    "        self.lstm = nn.LSTM(input_size = embedding_dimension, \n",
    "                            hidden_size = rnn_dim, \n",
    "                            num_layers = num_layers, \n",
    "                            dropout = dropout,\n",
    "                            batch_first = True)\n",
    "        #self.linear_1 =  nn.Linear(rnn_dim , relu_dim) \n",
    "        #self.relu_1 = nn.ReLU()\n",
    "        #self.linear_2 =  nn.Linear(relu_dim , tokens_count)\n",
    "        #self.relu_2 = nn.ReLU()\n",
    "        \n",
    "        self.linear = nn.Linear(rnn_dim,tokens_count)\n",
    "        self.dropout = nn.Dropout(dropout)\n",
    "        self.softmax = nn.LogSoftmax(dim=2)\n",
    "\n",
    "    def forward(self, inp, seq_length, hidden_states, train=True):\n",
    "        embedded = self.embedding(inp)\n",
    "        packed_embedded = nn.utils.rnn.pack_padded_sequence(embedded, seq_length, batch_first=True)\n",
    "        packed_output, (ht, ct) = self.lstm(packed_embedded, hidden_states)\n",
    "        (lstm_output, length) = nn.utils.rnn.pad_packed_sequence(packed_output, batch_first=True)\n",
    "        \n",
    "#         output_linear_1 = self.linear_1(lstm_output)\n",
    "#         output_relu_1 = self.relu_1(output_linear_1)\n",
    "#         output_linear_2 = self.linear_2(output_relu_1)\n",
    "#         output_relu_2 = self.relu_2(output_linear_2)\n",
    "        \n",
    "        output_linear = self.linear(lstm_output)\n",
    "        if train: output = self.dropout(output_linear)\n",
    "        output = self.softmax(output_linear)\n",
    "        return output, (ht, ct)\n",
    "\n",
    "    def initRNN(self, batch_size):\n",
    "        if use_cuda:\n",
    "            return (Variable(torch.zeros(num_layers, batch_size, self.rnn_dim).cuda()), \n",
    "                Variable(torch.zeros(num_layers, batch_size, self.rnn_dim)).cuda())\n",
    "        else:\n",
    "            return (Variable(torch.zeros(num_layers, batch_size, self.rnn_dim)), \n",
    "                Variable(torch.zeros(num_layers, batch_size, self.rnn_dim)))\n"
   ]
  },
  {
   "cell_type": "code",
   "execution_count": 12,
   "metadata": {},
   "outputs": [],
   "source": [
    "use_cuda = True\n",
    "embedding_dimension = 1024\n",
    "num_layers = 3\n",
    "rnn_dim = 2048\n",
    "#relu_dim = 256\n",
    "\n",
    "dropout = 0.1\n",
    "batch_size = 16"
   ]
  },
  {
   "cell_type": "code",
   "execution_count": 13,
   "metadata": {},
   "outputs": [],
   "source": [
    "if use_cuda:\n",
    "    rnn = RNN(tokens_count, embedding_dimension, rnn_dim, num_layers, dropout).cuda()\n",
    "else:\n",
    "    rnn = RNN(tokens_count, embedding_dimension, rnn_dim, num_layers, dropout)\n",
    "loss_function = nn.NLLLoss(ignore_index=token_dict[pad_token])\n",
    "optimizer = torch.optim.Adam(rnn.parameters())\n",
    "learning_rate = 0.0005"
   ]
  },
  {
   "cell_type": "code",
   "execution_count": 14,
   "metadata": {},
   "outputs": [
    {
     "name": "stdout",
     "output_type": "stream",
     "text": [
      "Parameters count: 98439\n"
     ]
    },
    {
     "data": {
      "text/plain": [
       "<bound method Module.named_parameters of RNN(\n",
       "  (embedding): Embedding(45, 1024)\n",
       "  (lstm): LSTM(1024, 2048, num_layers=3, batch_first=True, dropout=0.1)\n",
       "  (linear): Linear(in_features=2048, out_features=45)\n",
       "  (dropout): Dropout(p=0.1)\n",
       "  (softmax): LogSoftmax()\n",
       ")>"
      ]
     },
     "execution_count": 14,
     "metadata": {},
     "output_type": "execute_result"
    }
   ],
   "source": [
    "# Total number of parameters\n",
    "parameters_count=0\n",
    "for a in rnn.parameters():\n",
    "    parameters_count+=len(a)\n",
    "print(\"Parameters count: %d\" %parameters_count)\n",
    "rnn.named_parameters"
   ]
  },
  {
   "cell_type": "code",
   "execution_count": 15,
   "metadata": {},
   "outputs": [],
   "source": [
    "def get_lengths(v):\n",
    "    return np.array([i for i in map(len, v)])\n",
    "\n",
    "def pad(v):\n",
    "    lens = np.array([len(item) for item in v])\n",
    "    mask = lens[:,None] > np.arange(lens.max())\n",
    "    out = np.zeros(mask.shape,dtype=int)\n",
    "    out[mask] = np.concatenate(v)\n",
    "    return out\n",
    "\n",
    "losses = []\n",
    "step_count = 0"
   ]
  },
  {
   "cell_type": "code",
   "execution_count": 19,
   "metadata": {},
   "outputs": [],
   "source": [
    "# load previously trained model\n",
    "rnn.load_state_dict(torch.load('../models/model.pickle'))"
   ]
  },
  {
   "cell_type": "code",
   "execution_count": 45,
   "metadata": {
    "scrolled": false
   },
   "outputs": [
    {
     "name": "stdout",
     "output_type": "stream",
     "text": [
      "bartender said, \"knock knock\"\n",
      "\"who's there?\"\n",
      "\n",
      "\"brat\"\n",
      "\n",
      "\"bark walker walks into a bar.\"<end>\n"
     ]
    }
   ],
   "source": [
    "def generates_sequence(start_string, max_length):\n",
    "    \n",
    "    input_encoded = []\n",
    "    for char in start_string:\n",
    "        input_encoded.append(token_dict[char])\n",
    "\n",
    "    top_index = 0\n",
    "    result = start_string\n",
    "    hidden = rnn.initRNN(1)\n",
    "    \n",
    "    if use_cuda:\n",
    "        input_var =Variable(torch.cuda.LongTensor([input_encoded]))\n",
    "    else:\n",
    "        input_var = Variable(torch.LongTensor([input_encoded]))\n",
    "    \n",
    "    while input_encoded[0] != token_dict['<end>']:\n",
    "    \n",
    "        \n",
    "        output, hidden = rnn(input_var,\n",
    "                              np.array([len(input_encoded)]), \n",
    "                              hidden ,\n",
    "                              train = True)\n",
    "\n",
    "        input_encoded = [int(output.cpu().data.topk(1,dim=2)[1].numpy()[0][-1])]\n",
    "       \n",
    "        result+=decoder_dict[input_encoded[0]]\n",
    "        \n",
    "        if len(result)==max_length: break\n",
    "        \n",
    "        if use_cuda:\n",
    "            input_var = Variable(torch.cuda.LongTensor(input_encoded)).view(1,1)\n",
    "        else:\n",
    "            input_var = Variable(torch.LongTensor(input_encoded)).view(1,1)\n",
    "        \n",
    "    return result\n",
    "\n",
    "print(generates_sequence('bartender said, \"knock knock\"', 1000))"
   ]
  },
  {
   "cell_type": "code",
   "execution_count": null,
   "metadata": {
    "scrolled": false
   },
   "outputs": [
    {
     "name": "stderr",
     "output_type": "stream",
     "text": [
      " 13%|█▎        | 1283/9530 [28:09<3:00:59,  1.32s/it]"
     ]
    }
   ],
   "source": [
    "while True:\n",
    "    random.shuffle(jokes_encoded)\n",
    "    batches = np.array_split(jokes_encoded, int(len(jokes_encoded)/batch_size))\n",
    "\n",
    "    for batch in tqdm(batches):\n",
    "\n",
    "        # Prepare batch input and target (sort and pad)\n",
    "        batch = list(batch)\n",
    "        batch.sort(key=len, reverse=True)\n",
    "\n",
    "        batch_input = [i[:-1] for i in batch]\n",
    "        batch_target = [i[1:] for i in batch]\n",
    "\n",
    "        batch_input_pad = pad(batch_input)\n",
    "        batch_target_pad = pad(batch_target)\n",
    "\n",
    "        # Forward pass and loss function\n",
    "        if use_cuda:\n",
    "            input_var = Variable(torch.cuda.LongTensor(batch_input_pad))\n",
    "        else:\n",
    "            input_var = Variable(torch.LongTensor(batch_input_pad))\n",
    "        \n",
    "        output, _ = rnn(input_var, get_lengths(batch_input), \n",
    "                                  rnn.initRNN(len(batch_input)) ,\n",
    "                                  train = True)\n",
    "        flat_output = output.contiguous().view(-1,tokens_count)\n",
    "        if use_cuda:\n",
    "            flat_target = Variable(torch.cuda.LongTensor(batch_target_pad.flatten()))\n",
    "        else:\n",
    "            flat_target = Variable(torch.LongTensor(batch_target_pad.flatten()))\n",
    "        loss = loss_function(flat_output , flat_target)  # loss is already averaged\n",
    "        losses.append(float(loss))\n",
    "        \n",
    "        # Optimise\n",
    "        optimizer.zero_grad()\n",
    "        loss.backward()\n",
    "        optimizer.step()\n",
    "        \n",
    "        step_count+=1\n",
    "        \n",
    "#         if step_count%100 == 0:\n",
    "#             print(generates_sequence(random.choice(string.ascii_letters[0:26]), 500))\n",
    "#             print('-----')"
   ]
  },
  {
   "cell_type": "code",
   "execution_count": 71,
   "metadata": {
    "scrolled": false
   },
   "outputs": [
    {
     "name": "stdout",
     "output_type": "stream",
     "text": [
      "a dog was arrested for salt\n",
      "the couch was coming out of the closet and said \"i don't know what they're saying when i was born in the morning.\"<end>\n",
      "---\n",
      "a dog was walking down the street and saw a man walking down the street...\n",
      "he said, \"i was gonna see your mom a chicken!\"<end>\n",
      "---\n",
      "a dog walks into a bar...\n",
      "and says \"hey, it's driving me nuts\"<end>\n",
      "---\n",
      "a dog was walking down the street and saw a man walking down the street...\n",
      "he said \"hey man, i can see your password and the dog should be a dog.\" the guy says, \"no, i just walked out of here and should i see you there.\"<end>\n",
      "---\n",
      "a dog walks into a bar...\n",
      "and he says \"ouch!\"<end>\n",
      "---\n",
      "a dog walks into a bar...\n",
      "and the bartender says \"why the long face?\"<end>\n",
      "---\n",
      "a dog walks into a bar...\n",
      "and says \"ouch!\"<end>\n",
      "---\n",
      "a dog walks into a bar...\n",
      "and says \"i'm looking for the man who shot my paw\"<end>\n",
      "---\n",
      "a dog was arrested the other day...\n",
      "he was a man of a bit of a million dollars.<end>\n",
      "---\n",
      "a dog walks into a bar...\n",
      "and he says \"i can clearly see your nuts\"<end>\n",
      "---\n"
     ]
    }
   ],
   "source": [
    "for i in range(10):\n",
    "    print(generates_sequence('a dog', 500))\n",
    "    print('---')"
   ]
  },
  {
   "cell_type": "code",
   "execution_count": 80,
   "metadata": {},
   "outputs": [],
   "source": [
    "torch.save(rnn.state_dict(), '../models/model.pickle')"
   ]
  },
  {
   "cell_type": "code",
   "execution_count": null,
   "metadata": {},
   "outputs": [],
   "source": []
  }
 ],
 "metadata": {
  "kernelspec": {
   "display_name": "Python 3",
   "language": "python",
   "name": "python3"
  }
 },
 "nbformat": 4,
 "nbformat_minor": 2
}
