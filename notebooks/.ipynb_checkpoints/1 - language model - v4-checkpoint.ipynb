{
 "cells": [
  {
   "cell_type": "markdown",
   "metadata": {},
   "source": [
    "## v1\n",
    "* Done in Tensorflow\n",
    "* Unfinished\n",
    "\n",
    "## v2\n",
    "* Done in Torch\n",
    "\n",
    "## v3\n",
    "* Adds batching and adam\n",
    "\n",
    "## v4\n",
    "* Adds faster way of generating sequence"
   ]
  },
  {
   "cell_type": "code",
   "execution_count": 1,
   "metadata": {},
   "outputs": [
    {
     "name": "stdout",
     "output_type": "stream",
     "text": [
      "nvcc: NVIDIA (R) Cuda compiler driver\r\n",
      "Copyright (c) 2005-2016 NVIDIA Corporation\r\n",
      "Built on Tue_Jan_10_13:22:03_CST_2017\r\n",
      "Cuda compilation tools, release 8.0, V8.0.61\r\n"
     ]
    }
   ],
   "source": [
    "!nvcc --version"
   ]
  },
  {
   "cell_type": "code",
   "execution_count": 2,
   "metadata": {},
   "outputs": [
    {
     "data": {
      "text/plain": [
       "'3.5.2 (default, Sep 14 2017, 22:51:06) \\n[GCC 5.4.0 20160609]'"
      ]
     },
     "execution_count": 2,
     "metadata": {},
     "output_type": "execute_result"
    }
   ],
   "source": [
    "import sys\n",
    "sys.version"
   ]
  },
  {
   "cell_type": "code",
   "execution_count": 3,
   "metadata": {},
   "outputs": [
    {
     "name": "stdout",
     "output_type": "stream",
     "text": [
      "Requirement already satisfied: torch==0.3.0.post4 from http://download.pytorch.org/whl/cu80/torch-0.3.0.post4-cp35-cp35m-linux_x86_64.whl in /usr/local/lib/python3.5/dist-packages\n",
      "Requirement already satisfied: numpy in /usr/local/lib/python3.5/dist-packages (from torch==0.3.0.post4)\n",
      "Requirement already satisfied: pyyaml in /usr/local/lib/python3.5/dist-packages (from torch==0.3.0.post4)\n",
      "Requirement already satisfied: torchvision in /usr/local/lib/python3.5/dist-packages\n",
      "Requirement already satisfied: numpy in /usr/local/lib/python3.5/dist-packages (from torchvision)\n",
      "Requirement already satisfied: torch in /usr/local/lib/python3.5/dist-packages (from torchvision)\n",
      "Requirement already satisfied: pillow>=4.1.1 in /usr/local/lib/python3.5/dist-packages (from torchvision)\n",
      "Requirement already satisfied: six in /usr/local/lib/python3.5/dist-packages (from torchvision)\n",
      "Requirement already satisfied: pyyaml in /usr/local/lib/python3.5/dist-packages (from torch->torchvision)\n",
      "Requirement already satisfied: olefile in /usr/local/lib/python3.5/dist-packages (from pillow>=4.1.1->torchvision)\n"
     ]
    }
   ],
   "source": [
    "!pip3 install http://download.pytorch.org/whl/cu80/torch-0.3.0.post4-cp35-cp35m-linux_x86_64.whl \n",
    "!pip3 install torchvision"
   ]
  },
  {
   "cell_type": "code",
   "execution_count": 4,
   "metadata": {},
   "outputs": [],
   "source": [
    "from IPython.core.interactiveshell import InteractiveShell\n",
    "InteractiveShell.ast_node_interactivity = \"all\""
   ]
  },
  {
   "cell_type": "code",
   "execution_count": 5,
   "metadata": {},
   "outputs": [],
   "source": [
    "import itertools\n",
    "import pandas as pd\n",
    "import random\n",
    "from collections import Counter\n",
    "import torch\n",
    "import torch.nn as nn\n",
    "from torch.autograd import Variable\n",
    "import numpy as np\n",
    "from tqdm import tqdm\n",
    "import string\n",
    "import matplotlib.pyplot as plt\n",
    "\n",
    "%matplotlib inline"
   ]
  },
  {
   "cell_type": "code",
   "execution_count": 6,
   "metadata": {},
   "outputs": [
    {
     "data": {
      "text/plain": [
       "<torch.cuda.device at 0x7f0420cda0b8>"
      ]
     },
     "execution_count": 6,
     "metadata": {},
     "output_type": "execute_result"
    }
   ],
   "source": [
    "torch.cuda.device(0)"
   ]
  },
  {
   "cell_type": "markdown",
   "metadata": {},
   "source": [
    "# Read files and put all together"
   ]
  },
  {
   "cell_type": "code",
   "execution_count": 7,
   "metadata": {
    "scrolled": true
   },
   "outputs": [
    {
     "name": "stdout",
     "output_type": "stream",
     "text": [
      "CPU times: user 2.55 s, sys: 222 ms, total: 2.77 s\n",
      "Wall time: 2.77 s\n"
     ]
    }
   ],
   "source": [
    "%%time\n",
    "data_path = '../data/external/joke-dataset/'\n",
    "reddit_jokes = pd.read_json(data_path + 'reddit_jokes.json')\n",
    "wocka_jokes = pd.read_json(data_path + 'wocka.json' )\n",
    "stupid_jokes = pd.read_json(data_path + 'stupidstuff.json')"
   ]
  },
  {
   "cell_type": "code",
   "execution_count": 8,
   "metadata": {},
   "outputs": [
    {
     "data": {
      "text/plain": [
       "208345"
      ]
     },
     "execution_count": 8,
     "metadata": {},
     "output_type": "execute_result"
    }
   ],
   "source": [
    "reddit_jokes['body'] = reddit_jokes['title'] + '\\n' + reddit_jokes['body']\n",
    "del reddit_jokes['title']\n",
    "jokes = pd.concat([reddit_jokes['body'], wocka_jokes['body'], stupid_jokes['body']], axis = 0, ignore_index=True)\n",
    "len(jokes)"
   ]
  },
  {
   "cell_type": "markdown",
   "metadata": {},
   "source": [
    "# Preprocessing: data selection"
   ]
  },
  {
   "cell_type": "code",
   "execution_count": 9,
   "metadata": {},
   "outputs": [],
   "source": [
    "# Remove empty texts\n",
    "jokes = jokes[~(jokes=='')]\n",
    "\n",
    "# Ensure no nulls and no empty\n",
    "assert sum(jokes=='')==0\n",
    "assert sum(jokes.isnull())==0"
   ]
  },
  {
   "cell_type": "code",
   "execution_count": 10,
   "metadata": {},
   "outputs": [
    {
     "data": {
      "text/plain": [
       "<matplotlib.axes._subplots.AxesSubplot at 0x7f039fd396a0>"
      ]
     },
     "execution_count": 10,
     "metadata": {},
     "output_type": "execute_result"
    },
    {
     "name": "stdout",
     "output_type": "stream",
     "text": [
      "Number of jokes: 152493\n"
     ]
    },
    {
     "data": {
      "image/png": "[encoded data removed]",
      "text/plain": [
       "<matplotlib.figure.Figure at 0x7f039fd39d68>"
      ]
     },
     "metadata": {},
     "output_type": "display_data"
    }
   ],
   "source": [
    "# Remove very long jokes\n",
    "length_threshold=200\n",
    "jokes = jokes[jokes.apply(len)<length_threshold]\n",
    "jokes.apply(len).hist()\n",
    "print(\"Number of jokes: %d\" %len(jokes))"
   ]
  },
  {
   "cell_type": "markdown",
   "metadata": {},
   "source": [
    "# Preprocessing: data cleaning"
   ]
  },
  {
   "cell_type": "code",
   "execution_count": 11,
   "metadata": {},
   "outputs": [],
   "source": [
    "# Lowercase\n",
    "jokes = jokes.apply(lambda x: x.lower())\n"
   ]
  },
  {
   "cell_type": "code",
   "execution_count": 12,
   "metadata": {
    "scrolled": false
   },
   "outputs": [
    {
     "name": "stdout",
     "output_type": "stream",
     "text": [
      "comas make a big difference in your sentences.\n",
      "for example,     \n",
      "-ben is in a hurry\n",
      "-ben is in a coma\n",
      "-----\n",
      "why do hipsters love harrison ford?\n",
      "because he's indie!\n",
      "-----\n",
      "i have a multiple personality disorder...\n",
      "and so do i.\n",
      "-----\n",
      "two jihadists walk into a venue in texas\n",
      "didn't happen.\n",
      "-----\n",
      "steelers defense, last night.\n",
      "\n",
      "-----\n",
      "the brain\n",
      "the brain is a amazing organ it works 24 hours a day 365 days a year from the day you are born until you see your first woman naked.\n",
      "-----\n",
      "what did one tampon say to the other?\n",
      "nothing. they're both stuck up bitches.\n",
      "-----\n",
      "when a chicken pukes at a party...\n",
      "is that called a party fowl???\n",
      "-----\n",
      "i was caught after ditching a cab without paying...\n",
      "i was charged with taxi evasion.\n",
      "-----\n",
      "why can't you fool an aborted baby?\n",
      "because it wasn't born yesterday.\n",
      "-----\n"
     ]
    }
   ],
   "source": [
    "for i in range(10):\n",
    "    print(random.choice(list(jokes)))\n",
    "    print('-----')"
   ]
  },
  {
   "cell_type": "markdown",
   "metadata": {},
   "source": [
    "# Create tokens and encode train and validation set"
   ]
  },
  {
   "cell_type": "code",
   "execution_count": 13,
   "metadata": {},
   "outputs": [
    {
     "data": {
      "text/plain": [
       "45"
      ]
     },
     "execution_count": 13,
     "metadata": {},
     "output_type": "execute_result"
    }
   ],
   "source": [
    "# Create token_dict based on ascii letters\n",
    "all_letters = string.ascii_letters[0:26] + \"\"\" \".,;'-+=?!$%():\\n\"\"\"\n",
    "token_dict = {token:k for token,k in zip(all_letters, range(1,len(all_letters)+1))}\n",
    "\n",
    "end_token = '<end>'\n",
    "pad_token = '<pad>'\n",
    "\n",
    "token_dict[pad_token] = 0\n",
    "token_dict[end_token] = len(token_dict)\n",
    "\n",
    "decoder_dict = {token_dict[k]:k for k in token_dict.keys()}\n",
    "tokens_count = len(token_dict)\n",
    "assert len(decoder_dict)==len(decoder_dict)\n",
    "tokens_count"
   ]
  },
  {
   "cell_type": "code",
   "execution_count": 14,
   "metadata": {},
   "outputs": [
    {
     "name": "stdout",
     "output_type": "stream",
     "text": [
      "CPU times: user 2.03 s, sys: 13.4 ms, total: 2.05 s\n",
      "Wall time: 2.05 s\n"
     ]
    }
   ],
   "source": [
    "def text_encoder(text):\n",
    "    return [token_dict[token] for token in text if token in token_dict] + [token_dict['<end>']]\n",
    "\n",
    "%time jokes_encoded =  list( jokes.apply(text_encoder) ) # as a list is much faster to retrieve elements"
   ]
  },
  {
   "cell_type": "markdown",
   "metadata": {},
   "source": [
    "# Define model"
   ]
  },
  {
   "cell_type": "code",
   "execution_count": 15,
   "metadata": {},
   "outputs": [],
   "source": [
    "class RNN(nn.Module):\n",
    "    def __init__(self, \n",
    "                 tokens_count,\n",
    "                 embedding_dimension, \n",
    "                 rnn_dim,\n",
    "                 #relu_dim,\n",
    "                 num_layers, \n",
    "                 dropout):\n",
    "        \n",
    "        super(RNN, self).__init__()\n",
    "        \n",
    "        self.rnn_dim = rnn_dim\n",
    "        \n",
    "        self.embedding = nn.Embedding(tokens_count, embedding_dimension)\n",
    "        self.lstm = nn.LSTM(input_size = embedding_dimension, \n",
    "                            hidden_size = rnn_dim, \n",
    "                            num_layers = num_layers, \n",
    "                            dropout = dropout,\n",
    "                            batch_first = True)\n",
    "        #self.linear_1 =  nn.Linear(rnn_dim , relu_dim) \n",
    "        #self.relu_1 = nn.ReLU()\n",
    "        #self.linear_2 =  nn.Linear(relu_dim , tokens_count)\n",
    "        #self.relu_2 = nn.ReLU()\n",
    "        \n",
    "        self.linear = nn.Linear(rnn_dim,tokens_count)\n",
    "        self.dropout = nn.Dropout(dropout)\n",
    "        self.softmax = nn.LogSoftmax(dim=2)\n",
    "\n",
    "    def forward(self, inp, seq_length, hidden_states, train=True):\n",
    "        embedded = self.embedding(inp)\n",
    "        packed_embedded = nn.utils.rnn.pack_padded_sequence(embedded, seq_length, batch_first=True)\n",
    "        packed_output, (ht, ct) = self.lstm(packed_embedded, hidden_states)\n",
    "        (lstm_output, length) = nn.utils.rnn.pad_packed_sequence(packed_output, batch_first=True)\n",
    "        \n",
    "#         output_linear_1 = self.linear_1(lstm_output)\n",
    "#         output_relu_1 = self.relu_1(output_linear_1)\n",
    "#         output_linear_2 = self.linear_2(output_relu_1)\n",
    "#         output_relu_2 = self.relu_2(output_linear_2)\n",
    "        \n",
    "        output_linear = self.linear(lstm_output)\n",
    "        if train: output = self.dropout(output_linear)\n",
    "        output = self.softmax(output_linear)\n",
    "        return output, (ht, ct)\n",
    "\n",
    "    def initRNN(self, batch_size):\n",
    "        if use_cuda:\n",
    "            return (Variable(torch.zeros(num_layers, batch_size, self.rnn_dim).cuda()), \n",
    "                Variable(torch.zeros(num_layers, batch_size, self.rnn_dim)).cuda())\n",
    "        else:\n",
    "            return (Variable(torch.zeros(num_layers, batch_size, self.rnn_dim)), \n",
    "                Variable(torch.zeros(num_layers, batch_size, self.rnn_dim)))\n"
   ]
  },
  {
   "cell_type": "code",
   "execution_count": 16,
   "metadata": {},
   "outputs": [],
   "source": [
    "use_cuda = True\n",
    "embedding_dimension = 1024\n",
    "num_layers = 3\n",
    "rnn_dim = 2048\n",
    "#relu_dim = 256\n",
    "\n",
    "dropout = 0.1\n",
    "batch_size = 16"
   ]
  },
  {
   "cell_type": "code",
   "execution_count": 17,
   "metadata": {},
   "outputs": [],
   "source": [
    "if use_cuda:\n",
    "    rnn = RNN(tokens_count, embedding_dimension, rnn_dim, num_layers, dropout).cuda()\n",
    "else:\n",
    "    rnn = RNN(tokens_count, embedding_dimension, rnn_dim, num_layers, dropout)\n",
    "loss_function = nn.NLLLoss(ignore_index=token_dict[pad_token])\n",
    "optimizer = torch.optim.Adam(rnn.parameters())\n",
    "learning_rate = 0.0005"
   ]
  },
  {
   "cell_type": "code",
   "execution_count": 18,
   "metadata": {},
   "outputs": [
    {
     "name": "stdout",
     "output_type": "stream",
     "text": [
      "Parameters count: 98439\n"
     ]
    },
    {
     "data": {
      "text/plain": [
       "<bound method Module.named_parameters of RNN(\n",
       "  (embedding): Embedding(45, 1024)\n",
       "  (lstm): LSTM(1024, 2048, num_layers=3, batch_first=True, dropout=0.1)\n",
       "  (linear): Linear(in_features=2048, out_features=45)\n",
       "  (dropout): Dropout(p=0.1)\n",
       "  (softmax): LogSoftmax()\n",
       ")>"
      ]
     },
     "execution_count": 18,
     "metadata": {},
     "output_type": "execute_result"
    }
   ],
   "source": [
    "# Total number of parameters\n",
    "parameters_count=0\n",
    "for a in rnn.parameters():\n",
    "    parameters_count+=len(a)\n",
    "print(\"Parameters count: %d\" %parameters_count)\n",
    "rnn.named_parameters"
   ]
  },
  {
   "cell_type": "code",
   "execution_count": 19,
   "metadata": {},
   "outputs": [],
   "source": [
    "def get_lengths(v):\n",
    "    return np.array([i for i in map(len, v)])\n",
    "\n",
    "def pad(v):\n",
    "    lens = np.array([len(item) for item in v])\n",
    "    mask = lens[:,None] > np.arange(lens.max())\n",
    "    out = np.zeros(mask.shape,dtype=int)\n",
    "    out[mask] = np.concatenate(v)\n",
    "    return out\n",
    "\n",
    "losses = []\n",
    "step_count = 0"
   ]
  },
  {
   "cell_type": "code",
   "execution_count": 23,
   "metadata": {},
   "outputs": [],
   "source": [
    "rnn.load_state_dict(torch.load('../models/jokes_v4.pickle'))"
   ]
  },
  {
   "cell_type": "code",
   "execution_count": 143,
   "metadata": {},
   "outputs": [
    {
     "name": "stdout",
     "output_type": "stream",
     "text": [
      "what do you call a cow with no legs?\n",
      "nothing. you can't get the hell out of it.<end>\n"
     ]
    }
   ],
   "source": [
    "start_string = 'what'\n",
    "max_length = 500\n",
    "def generates_sequence_stats(start_string, max_length):\n",
    "    # Next character is chosen depending on its probabilities\n",
    "    \n",
    "    input_encoded = []\n",
    "    for char in start_string:\n",
    "        input_encoded.append(token_dict[char])\n",
    "\n",
    "    top_index = 0\n",
    "    result = start_string\n",
    "    hidden = rnn.initRNN(1)\n",
    "\n",
    "    if use_cuda:\n",
    "        input_var =Variable(torch.cuda.LongTensor([input_encoded]))\n",
    "    else:\n",
    "        input_var = Variable(torch.LongTensor([input_encoded]))\n",
    "\n",
    "    while input_encoded[0] != token_dict['<end>']:\n",
    "\n",
    "\n",
    "        output, hidden = rnn(input_var,\n",
    "                              np.array([len(input_encoded)]), \n",
    "                              hidden ,\n",
    "                              train = True)\n",
    "\n",
    "        input_encoded = [ int( np.where(((torch.cumsum(torch.exp(output[:,-1,:].view(1,1,-1)),2)>random.random()).data).cpu().numpy()[0][0])[0].min() )]\n",
    "\n",
    "        result+=decoder_dict[input_encoded[0]]\n",
    "\n",
    "        if len(result)==max_length: break\n",
    "\n",
    "        if use_cuda:\n",
    "            input_var = Variable(torch.cuda.LongTensor(input_encoded)).view(1,1)\n",
    "        else:\n",
    "            input_var = Variable(torch.LongTensor(input_encoded)).view(1,1)\n",
    "\n",
    "    return result\n",
    "\n",
    "starting_string = 'what'\n",
    "print(generates_sequence(starting_string, 1000))"
   ]
  },
  {
   "cell_type": "code",
   "execution_count": 144,
   "metadata": {
    "scrolled": false
   },
   "outputs": [
    {
     "name": "stdout",
     "output_type": "stream",
     "text": [
      "what do you call a cow with no legs?\n",
      "ground beef.<end>\n"
     ]
    }
   ],
   "source": [
    "def generates_sequence(start_string, max_length):\n",
    "    \n",
    "    input_encoded = []\n",
    "    for char in start_string:\n",
    "        input_encoded.append(token_dict[char])\n",
    "\n",
    "    top_index = 0\n",
    "    result = start_string\n",
    "    hidden = rnn.initRNN(1)\n",
    "    \n",
    "    if use_cuda:\n",
    "        input_var =Variable(torch.cuda.LongTensor([input_encoded]))\n",
    "    else:\n",
    "        input_var = Variable(torch.LongTensor([input_encoded]))\n",
    "    \n",
    "    while input_encoded[0] != token_dict['<end>']:\n",
    "    \n",
    "        \n",
    "        output, hidden = rnn(input_var,\n",
    "                              np.array([len(input_encoded)]), \n",
    "                              hidden ,\n",
    "                              train = True)\n",
    "\n",
    "        input_encoded = [int(output.cpu().data.topk(1,dim=2)[1].numpy()[0][-1])]\n",
    "       \n",
    "        result+=decoder_dict[input_encoded[0]]\n",
    "        \n",
    "        if len(result)==max_length: break\n",
    "        \n",
    "        if use_cuda:\n",
    "            input_var = Variable(torch.cuda.LongTensor(input_encoded)).view(1,1)\n",
    "        else:\n",
    "            input_var = Variable(torch.LongTensor(input_encoded)).view(1,1)\n",
    "        \n",
    "    return result\n",
    "\n",
    "print(generates_sequence(starting_string, 1000))"
   ]
  },
  {
   "cell_type": "code",
   "execution_count": 145,
   "metadata": {
    "scrolled": false
   },
   "outputs": [
    {
     "name": "stderr",
     "output_type": "stream",
     "text": [
      "  0%|          | 4/9530 [00:05<3:42:47,  1.40s/it]\n"
     ]
    },
    {
     "ename": "KeyboardInterrupt",
     "evalue": "",
     "output_type": "error",
     "traceback": [
      "\u001b[0;31m---------------------------------------------------------------------------\u001b[0m",
      "\u001b[0;31mKeyboardInterrupt\u001b[0m                         Traceback (most recent call last)",
      "\u001b[0;32m<ipython-input-145-f7ccfe676d40>\u001b[0m in \u001b[0;36m<module>\u001b[0;34m()\u001b[0m\n\u001b[1;32m     35\u001b[0m         \u001b[0;31m# Optimise\u001b[0m\u001b[0;34m\u001b[0m\u001b[0;34m\u001b[0m\u001b[0m\n\u001b[1;32m     36\u001b[0m         \u001b[0moptimizer\u001b[0m\u001b[0;34m.\u001b[0m\u001b[0mzero_grad\u001b[0m\u001b[0;34m(\u001b[0m\u001b[0;34m)\u001b[0m\u001b[0;34m\u001b[0m\u001b[0m\n\u001b[0;32m---> 37\u001b[0;31m         \u001b[0mloss\u001b[0m\u001b[0;34m.\u001b[0m\u001b[0mbackward\u001b[0m\u001b[0;34m(\u001b[0m\u001b[0;34m)\u001b[0m\u001b[0;34m\u001b[0m\u001b[0m\n\u001b[0m\u001b[1;32m     38\u001b[0m         \u001b[0moptimizer\u001b[0m\u001b[0;34m.\u001b[0m\u001b[0mstep\u001b[0m\u001b[0;34m(\u001b[0m\u001b[0;34m)\u001b[0m\u001b[0;34m\u001b[0m\u001b[0m\n\u001b[1;32m     39\u001b[0m \u001b[0;34m\u001b[0m\u001b[0m\n",
      "\u001b[0;32m/usr/local/lib/python3.5/dist-packages/torch/autograd/variable.py\u001b[0m in \u001b[0;36mbackward\u001b[0;34m(self, gradient, retain_graph, create_graph, retain_variables)\u001b[0m\n\u001b[1;32m    165\u001b[0m                 \u001b[0mVariable\u001b[0m\u001b[0;34m.\u001b[0m\u001b[0;34m\u001b[0m\u001b[0m\n\u001b[1;32m    166\u001b[0m         \"\"\"\n\u001b[0;32m--> 167\u001b[0;31m         \u001b[0mtorch\u001b[0m\u001b[0;34m.\u001b[0m\u001b[0mautograd\u001b[0m\u001b[0;34m.\u001b[0m\u001b[0mbackward\u001b[0m\u001b[0;34m(\u001b[0m\u001b[0mself\u001b[0m\u001b[0;34m,\u001b[0m \u001b[0mgradient\u001b[0m\u001b[0;34m,\u001b[0m \u001b[0mretain_graph\u001b[0m\u001b[0;34m,\u001b[0m \u001b[0mcreate_graph\u001b[0m\u001b[0;34m,\u001b[0m \u001b[0mretain_variables\u001b[0m\u001b[0;34m)\u001b[0m\u001b[0;34m\u001b[0m\u001b[0m\n\u001b[0m\u001b[1;32m    168\u001b[0m \u001b[0;34m\u001b[0m\u001b[0m\n\u001b[1;32m    169\u001b[0m     \u001b[0;32mdef\u001b[0m \u001b[0mregister_hook\u001b[0m\u001b[0;34m(\u001b[0m\u001b[0mself\u001b[0m\u001b[0;34m,\u001b[0m \u001b[0mhook\u001b[0m\u001b[0;34m)\u001b[0m\u001b[0;34m:\u001b[0m\u001b[0;34m\u001b[0m\u001b[0m\n",
      "\u001b[0;32m/usr/local/lib/python3.5/dist-packages/torch/autograd/__init__.py\u001b[0m in \u001b[0;36mbackward\u001b[0;34m(variables, grad_variables, retain_graph, create_graph, retain_variables)\u001b[0m\n\u001b[1;32m     97\u001b[0m \u001b[0;34m\u001b[0m\u001b[0m\n\u001b[1;32m     98\u001b[0m     Variable._execution_engine.run_backward(\n\u001b[0;32m---> 99\u001b[0;31m         variables, grad_variables, retain_graph)\n\u001b[0m\u001b[1;32m    100\u001b[0m \u001b[0;34m\u001b[0m\u001b[0m\n\u001b[1;32m    101\u001b[0m \u001b[0;34m\u001b[0m\u001b[0m\n",
      "\u001b[0;31mKeyboardInterrupt\u001b[0m: "
     ]
    }
   ],
   "source": [
    "while True:\n",
    "    random.shuffle(jokes_encoded)\n",
    "    batches = np.array_split(jokes_encoded, int(len(jokes_encoded)/batch_size))\n",
    "\n",
    "    for batch in tqdm(batches):\n",
    "\n",
    "        # Prepare batch input and target (sort and pad)\n",
    "        batch = list(batch)\n",
    "        batch.sort(key=len, reverse=True)\n",
    "\n",
    "        batch_input = [i[:-1] for i in batch]\n",
    "        batch_target = [i[1:] for i in batch]\n",
    "\n",
    "        batch_input_pad = pad(batch_input)\n",
    "        batch_target_pad = pad(batch_target)\n",
    "\n",
    "        # Forward pass and loss function\n",
    "        if use_cuda:\n",
    "            input_var = Variable(torch.cuda.LongTensor(batch_input_pad))\n",
    "        else:\n",
    "            input_var = Variable(torch.LongTensor(batch_input_pad))\n",
    "        \n",
    "        output, _ = rnn(input_var,\n",
    "                                  get_lengths(batch_input), \n",
    "                                  rnn.initRNN(len(batch_input)) ,\n",
    "                                  train = False)\n",
    "        flat_output = output.contiguous().view(-1,tokens_count)\n",
    "        if use_cuda:\n",
    "            flat_target = Variable(torch.cuda.LongTensor(batch_target_pad.flatten()))\n",
    "        else:\n",
    "            flat_target = Variable(torch.LongTensor(batch_target_pad.flatten()))\n",
    "        loss = loss_function(flat_output , flat_target)  # loss is already averaged\n",
    "        losses.append(float(loss))\n",
    "        \n",
    "        # Optimise\n",
    "        optimizer.zero_grad()\n",
    "        loss.backward()\n",
    "        optimizer.step()\n",
    "        \n",
    "        step_count+=1\n",
    "        \n",
    "#         if step_count%100 == 0:\n",
    "#             print(generates_sequence(random.choice(string.ascii_letters[0:26]), 500))\n",
    "#             print('-----')"
   ]
  },
  {
   "cell_type": "code",
   "execution_count": 161,
   "metadata": {
    "scrolled": false
   },
   "outputs": [
    {
     "name": "stdout",
     "output_type": "stream",
     "text": [
      "he asked: \"how can i remove it?\"\n",
      "i said, \"no, but i was a little condescending.\"<end>\n",
      "---\n",
      "he asked: \"how can i remove it?\"\n",
      "i said, \"no, it's a good time i was gonna go back to your mom.\"<end>\n",
      "---\n",
      "he asked: \"how can i remove it?\"\n",
      "he said, \"i don't know, i was like a gun and a little cock and a little cock in your mouth.\"<end>\n",
      "---\n",
      "he asked: \"how can i remove it?\"\n",
      "i said, \"no, i'm a bit really stupid.\"<end>\n",
      "---\n",
      "he asked: \"how can i remove it?\"\n",
      "the man replied, \"no, i don't have a shit joke.\"<end>\n",
      "---\n",
      "he asked: \"how can i remove it?\"\n",
      "he said, \"i don't know, i don't see what i was told to this to you.\"<end>\n",
      "---\n",
      "he asked: \"how can i remove it?\"\n",
      "i said, \"no, i'm a little condescending.\"<end>\n",
      "---\n",
      "he asked: \"how can i remove it?\"\n",
      "\"yes, i don't see myself out.\"<end>\n",
      "---\n",
      "he asked: \"how can i remove it?\"\n",
      "i said, \"no, i'm a bit really stupid.\"<end>\n",
      "---\n",
      "he asked: \"how can i remove it?\"\n",
      "i said, \"i don't know, i don't have any cocks.\"<end>\n",
      "---\n"
     ]
    }
   ],
   "source": [
    "for i in range(10):\n",
    "    print(generates_sequence('he asked: \"how can i remove it?\"', 500))\n",
    "    print('---')"
   ]
  },
  {
   "cell_type": "code",
   "execution_count": 80,
   "metadata": {},
   "outputs": [],
   "source": [
    "torch.save(rnn.state_dict(), '../models/jokes_v4.pickle')"
   ]
  },
  {
   "cell_type": "code",
   "execution_count": 163,
   "metadata": {
    "scrolled": true
   },
   "outputs": [
    {
     "data": {
      "text/plain": [
       "[<matplotlib.lines.Line2D at 0x7f039fbbe128>]"
      ]
     },
     "execution_count": 163,
     "metadata": {},
     "output_type": "execute_result"
    },
    {
     "data": {
      "image/png": "[encoded data removed]",
      "text/plain": [
       "<matplotlib.figure.Figure at 0x7f039fc147b8>"
      ]
     },
     "metadata": {},
     "output_type": "display_data"
    }
   ],
   "source": [
    "plt.plot(losses)"
   ]
  },
  {
   "cell_type": "code",
   "execution_count": null,
   "metadata": {},
   "outputs": [],
   "source": []
  }
 ],
 "metadata": {
  "kernelspec": {
   "display_name": "Python 3",
   "language": "python",
   "name": "python3"
  },
  "language_info": {
   "codemirror_mode": {
    "name": "ipython",
    "version": 3
   },
   "file_extension": ".py",
   "mimetype": "text/x-python",
   "name": "python",
   "nbconvert_exporter": "python",
   "pygments_lexer": "ipython3",
   "version": "3.5.2"
  }
 },
 "nbformat": 4,
 "nbformat_minor": 2
}
